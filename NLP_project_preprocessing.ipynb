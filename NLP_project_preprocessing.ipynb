{
  "nbformat": 4,
  "nbformat_minor": 0,
  "metadata": {
    "kernelspec": {
      "display_name": "Python 3",
      "language": "python",
      "name": "python3"
    },
    "language_info": {
      "codemirror_mode": {
        "name": "ipython",
        "version": 3
      },
      "file_extension": ".py",
      "mimetype": "text/x-python",
      "name": "python",
      "nbconvert_exporter": "python",
      "pygments_lexer": "ipython3",
      "version": "3.7.3"
    },
    "colab": {
      "name": "NLP_project_preprocessing.ipynb",
      "provenance": [],
      "collapsed_sections": []
    }
  },
  "cells": [
    {
      "cell_type": "code",
      "metadata": {
        "id": "uwV5k9pERVQn",
        "colab_type": "code",
        "outputId": "690cd8af-126f-46e4-f590-fc7dd276e853",
        "colab": {
          "base_uri": "https://localhost:8080/",
          "height": 34
        }
      },
      "source": [
        "from google.colab import drive\n",
        "drive.mount('/content/drive')"
      ],
      "execution_count": 0,
      "outputs": [
        {
          "output_type": "stream",
          "text": [
            "Drive already mounted at /content/drive; to attempt to forcibly remount, call drive.mount(\"/content/drive\", force_remount=True).\n"
          ],
          "name": "stdout"
        }
      ]
    },
    {
      "cell_type": "code",
      "metadata": {
        "scrolled": true,
        "id": "dHxWdIPlRTJX",
        "colab_type": "code",
        "colab": {}
      },
      "source": [
        "import pandas as pd\n",
        "import numpy as np\n",
        "from gensim.parsing.preprocessing import STOPWORDS\n",
        "from nltk.corpus import stopwords\n",
        "import nltk\n",
        "import re"
      ],
      "execution_count": 0,
      "outputs": []
    },
    {
      "cell_type": "code",
      "metadata": {
        "id": "xUGtJz4fRTJj",
        "colab_type": "code",
        "outputId": "119846d9-caf9-4724-ab6d-e3699a8b56a9",
        "colab": {
          "base_uri": "https://localhost:8080/",
          "height": 51
        }
      },
      "source": [
        "start = pd.datetime.now()"
      ],
      "execution_count": 0,
      "outputs": [
        {
          "output_type": "stream",
          "text": [
            "/usr/local/lib/python3.6/dist-packages/ipykernel_launcher.py:1: FutureWarning: The pandas.datetime class is deprecated and will be removed from pandas in a future version. Import from datetime instead.\n",
            "  \"\"\"Entry point for launching an IPython kernel.\n"
          ],
          "name": "stderr"
        }
      ]
    },
    {
      "cell_type": "markdown",
      "metadata": {
        "id": "crfrYddMRTJw",
        "colab_type": "text"
      },
      "source": [
        "## Data Cleaning"
      ]
    },
    {
      "cell_type": "code",
      "metadata": {
        "id": "YdN9xrBwRTJx",
        "colab_type": "code",
        "outputId": "00cd3430-38da-44db-9fd3-927cdd592930",
        "colab": {
          "base_uri": "https://localhost:8080/",
          "height": 34
        }
      },
      "source": [
        "df_SQL = pd.read_csv('/content/drive/My Drive/NLP/full_data.csv')\n",
        "df_SQL.drop(columns=['created_at', 'updated_at', 'deleted_at', 'bc_product_id'], inplace=True)\n",
        "for columns in df_SQL.columns:\n",
        "    df_SQL[columns] = df_SQL[columns].str.lower() \n",
        "df_SQL.drop_duplicates(subset= ['product_id'], keep = 'first', inplace=True)\n",
        "df_SQL.shape"
      ],
      "execution_count": 0,
      "outputs": [
        {
          "output_type": "execute_result",
          "data": {
            "text/plain": [
              "(48072, 9)"
            ]
          },
          "metadata": {
            "tags": []
          },
          "execution_count": 4
        }
      ]
    },
    {
      "cell_type": "code",
      "metadata": {
        "id": "39kR87K_RTJ7",
        "colab_type": "code",
        "outputId": "266196ce-df17-4259-d2cb-5c0b3195c8e0",
        "colab": {
          "base_uri": "https://localhost:8080/",
          "height": 34
        }
      },
      "source": [
        "tag_SQL = pd.read_csv('/content/drive/My Drive/NLP/tagged_product_attributes.csv')\n",
        "\n",
        "for columns in tag_SQL.columns:\n",
        "    tag_SQL[columns] = tag_SQL[columns].str.lower() \n",
        "    \n",
        "remove = [' ', '_', '(', ')', '-', ',', '&', '\"', '\"', '/']\n",
        "for i in remove:\n",
        "    tag_SQL['attribute_name'] = tag_SQL['attribute_name'].str.replace(i, '')\n",
        "    tag_SQL['attribute_value'] = tag_SQL['attribute_value'].str.replace(i, '')\n",
        "\n",
        "tag_SQL.drop(columns='file', inplace=True)\n",
        "tag_SQL.drop_duplicates(keep='first', inplace=True) #only removed duplicates that have same data in all of the columns\n",
        "tag_SQL.shape"
      ],
      "execution_count": 0,
      "outputs": [
        {
          "output_type": "execute_result",
          "data": {
            "text/plain": [
              "(97950, 4)"
            ]
          },
          "metadata": {
            "tags": []
          },
          "execution_count": 5
        }
      ]
    },
    {
      "cell_type": "code",
      "metadata": {
        "id": "IMOcTyw-RTKH",
        "colab_type": "code",
        "outputId": "62b3d0d8-46c5-42fc-fe06-e7538de8ee38",
        "colab": {
          "base_uri": "https://localhost:8080/",
          "height": 34
        }
      },
      "source": [
        "df_join = pd.merge(df_SQL, tag_SQL.drop(columns='product_color_id'), how='inner', on='product_id')\n",
        "focus_attribute = ['style', 'occasion', 'category', 'fit']\n",
        "df_clean = df_join[df_join.attribute_name.isin(focus_attribute)].reset_index(drop=True)\n",
        "\n",
        "for att in focus_attribute:\n",
        "    df_clean[att] = np.where(df_clean.attribute_name==att, df_clean.attribute_value, None)\n",
        "df_clean.replace(np.nan, '', regex=True, inplace=True)\n",
        "df_clean.drop_duplicates(inplace=True)\n",
        "df_clean.reset_index(inplace=True)\n",
        "df_clean.shape"
      ],
      "execution_count": 0,
      "outputs": [
        {
          "output_type": "execute_result",
          "data": {
            "text/plain": [
              "(26584, 16)"
            ]
          },
          "metadata": {
            "tags": []
          },
          "execution_count": 6
        }
      ]
    },
    {
      "cell_type": "markdown",
      "metadata": {
        "id": "ZS0bHjnURTKR",
        "colab_type": "text"
      },
      "source": [
        "## Preprocessing with regex"
      ]
    },
    {
      "cell_type": "code",
      "metadata": {
        "id": "R2PDi5R3RTKT",
        "colab_type": "code",
        "colab": {}
      },
      "source": [
        "from sklearn.feature_extraction.text import CountVectorizer\n",
        "vectorizer = CountVectorizer()\n",
        "X = vectorizer.fit_transform(df_clean.description)\n",
        "temp = pd.DataFrame(X.toarray(), columns=vectorizer.get_feature_names()).sum(axis=0)"
      ],
      "execution_count": 0,
      "outputs": []
    },
    {
      "cell_type": "code",
      "metadata": {
        "scrolled": true,
        "id": "lGv8390oRTKd",
        "colab_type": "code",
        "outputId": "a1a98b76-e3ea-4ec4-a570-05028ce2a6b9",
        "colab": {
          "base_uri": "https://localhost:8080/",
          "height": 884
        }
      },
      "source": [
        "temp.sort_values(ascending=False).head(50)"
      ],
      "execution_count": 0,
      "outputs": [
        {
          "output_type": "execute_result",
          "data": {
            "text/plain": [
              "and           21434\n",
              "the           20116\n",
              "with          16651\n",
              "in            10961\n",
              "this          10331\n",
              "to             9654\n",
              "of             8717\n",
              "for            8451\n",
              "is             7910\n",
              "from           6269\n",
              "that           4958\n",
              "on             4743\n",
              "an             4351\n",
              "fit            4303\n",
              "leather        4066\n",
              "cotton         4038\n",
              "style          3808\n",
              "made           3555\n",
              "your           3521\n",
              "it             3233\n",
              "designed       2958\n",
              "cut            2946\n",
              "100            2824\n",
              "waist          2804\n",
              "at             2795\n",
              "high           2675\n",
              "silhouette     2635\n",
              "you            2540\n",
              "silk           2509\n",
              "look           2489\n",
              "size           2456\n",
              "front          2407\n",
              "classic        2381\n",
              "denim          2295\n",
              "these          2273\n",
              "length         2189\n",
              "sleeves        2142\n",
              "polyester      2129\n",
              "top            2097\n",
              "soft           2084\n",
              "stretch        2041\n",
              "back           2008\n",
              "jeans          1971\n",
              "dress          1924\n",
              "are            1914\n",
              "button         1900\n",
              "features       1870\n",
              "black          1860\n",
              "body           1831\n",
              "heel           1822\n",
              "dtype: int64"
            ]
          },
          "metadata": {
            "tags": []
          },
          "execution_count": 8
        }
      ]
    },
    {
      "cell_type": "code",
      "metadata": {
        "scrolled": true,
        "id": "zPrUX6-DRTKm",
        "colab_type": "code",
        "outputId": "348c8f49-a0ad-4e62-82f8-bb394687f42f",
        "colab": {
          "base_uri": "https://localhost:8080/",
          "height": 901
        }
      },
      "source": [
        "temp.sort_values(ascending=False).iloc[50:101]"
      ],
      "execution_count": 0,
      "outputs": [
        {
          "output_type": "execute_result",
          "data": {
            "text/plain": [
              "up            1749\n",
              "or            1742\n",
              "wool          1710\n",
              "inspired      1676\n",
              "model         1664\n",
              "pants         1635\n",
              "perfect       1560\n",
              "sweater       1546\n",
              "cropped       1545\n",
              "by            1544\n",
              "wash          1530\n",
              "relaxed       1492\n",
              "blend         1462\n",
              "shirt         1438\n",
              "clean         1431\n",
              "crafted       1430\n",
              "leg           1388\n",
              "knit          1372\n",
              "tall          1365\n",
              "skirt         1352\n",
              "wears         1351\n",
              "cm            1337\n",
              "toe           1335\n",
              "pair          1312\n",
              "slim          1265\n",
              "hem           1253\n",
              "cashmere      1230\n",
              "print         1229\n",
              "neck          1225\n",
              "wide          1219\n",
              "pockets       1201\n",
              "easy          1184\n",
              "wear          1181\n",
              "belt          1177\n",
              "white         1166\n",
              "ankle         1142\n",
              "jacket        1139\n",
              "rise          1123\n",
              "lining        1120\n",
              "our           1118\n",
              "has           1108\n",
              "flattering    1104\n",
              "tee           1090\n",
              "imported      1086\n",
              "its           1074\n",
              "as            1068\n",
              "bag           1067\n",
              "dry           1056\n",
              "oversized     1029\n",
              "into          1022\n",
              "chic          1010\n",
              "dtype: int64"
            ]
          },
          "metadata": {
            "tags": []
          },
          "execution_count": 9
        }
      ]
    },
    {
      "cell_type": "code",
      "metadata": {
        "id": "cnm3x6g1U576",
        "colab_type": "code",
        "colab": {}
      },
      "source": [
        "for i in range(0,len(df_clean)):\n",
        "    text = df_clean.loc[i,'description']\n",
        "    text = re.sub(r'([0-9]+)', '', text)\n",
        "    text = re.sub(r'\\b(jeans|pants|skirt|shorts|leggings|trousers)\\b', 'bottom', text)\n",
        "    text = re.sub(r'\\b(sweater|shirt|jacket|tshirt|coat|blazer|cardigan|hoodie)\\b', 'top', text)\n",
        "    text = re.sub(r'\\b(sneakers|boots|flats|heels|slippers|sandals)\\b', 'shoe', text)\n",
        "    text = re.sub(r'\\b(dress|one piece|jumpsuit)\\b', 'onepiece', text)  \n",
        "    df_clean.loc[i,'description'] = text"
      ],
      "execution_count": 0,
      "outputs": []
    },
    {
      "cell_type": "code",
      "metadata": {
        "id": "DiNiT8sLRTK1",
        "colab_type": "code",
        "colab": {}
      },
      "source": [
        "# regex to remove numbers in details\n",
        "df_clean['product_full_name'] = df_clean['product_full_name'].str.replace(r'([0-9]+)','')\n",
        "df_clean['details'] = df_clean['details'].str.replace(r'([0-9]+)','')\n",
        "df_clean['brand_category'] = df_clean['brand_category'].str.replace(r'([0-9]+)','')"
      ],
      "execution_count": 0,
      "outputs": []
    },
    {
      "cell_type": "markdown",
      "metadata": {
        "id": "jjZObZl_RTK9",
        "colab_type": "text"
      },
      "source": [
        "## Removing stopwords, lemmatization"
      ]
    },
    {
      "cell_type": "code",
      "metadata": {
        "id": "0N31BfqpRTK-",
        "colab_type": "code",
        "outputId": "c908fd7e-72f2-4c2e-dd6a-fd84d603b9a0",
        "colab": {
          "base_uri": "https://localhost:8080/",
          "height": 102
        }
      },
      "source": [
        "from nltk.stem import WordNetLemmatizer\n",
        "import nltk\n",
        "nltk.download('stopwords')\n",
        "nltk.download('wordnet')"
      ],
      "execution_count": 0,
      "outputs": [
        {
          "output_type": "stream",
          "text": [
            "[nltk_data] Downloading package stopwords to /root/nltk_data...\n",
            "[nltk_data]   Package stopwords is already up-to-date!\n",
            "[nltk_data] Downloading package wordnet to /root/nltk_data...\n",
            "[nltk_data]   Package wordnet is already up-to-date!\n"
          ],
          "name": "stdout"
        },
        {
          "output_type": "execute_result",
          "data": {
            "text/plain": [
              "True"
            ]
          },
          "metadata": {
            "tags": []
          },
          "execution_count": 12
        }
      ]
    },
    {
      "cell_type": "code",
      "metadata": {
        "id": "5nlfevRPRTLG",
        "colab_type": "code",
        "colab": {}
      },
      "source": [
        "stopwords_gensim = list(STOPWORDS)\n",
        "stopwords_NLTK = list(stopwords.words(\"english\"))\n",
        "stopwords_combined = list(set(stopwords_gensim+stopwords_NLTK)) #to remove duplicates\n",
        "negatives = ['not','nor','no','neither', 'never', 'bottom', 'top'] #took out the negative words for a more accurate analysis\n",
        "stopwords_combined = list(filter(lambda x: x not in negatives, stopwords_combined))\n",
        "stopwords_combined.sort()\n",
        "stopwords_expression = '|'.join(stopwords_combined)\n",
        "stopwords_pattern = f'({stopwords_expression})'"
      ],
      "execution_count": 0,
      "outputs": []
    },
    {
      "cell_type": "code",
      "metadata": {
        "id": "P90U8tLqRTLP",
        "colab_type": "code",
        "colab": {}
      },
      "source": [
        "def lemmatize(text):\n",
        "    lemmatizer = WordNetLemmatizer()\n",
        "    tokens = text.split()\n",
        "    stemmed_tokens = [lemmatizer.lemmatize(token) for token in tokens]\n",
        "    return ' '.join(stemmed_tokens)\n",
        "\n",
        "def stem_text(text):\n",
        "    porter=PorterStemmer()\n",
        "    tokens = text.split()\n",
        "    stemmed_tokens = [porter.stem(token) for token in tokens]\n",
        "    return ' '.join(stemmed_tokens)"
      ],
      "execution_count": 0,
      "outputs": []
    },
    {
      "cell_type": "code",
      "metadata": {
        "id": "5ISFuyxiRTLS",
        "colab_type": "code",
        "colab": {}
      },
      "source": [
        "col = ['product_full_name','description','brand_category','details']\n",
        "for i in col:\n",
        "    df_clean[i] = df_clean[i].astype(str)\n",
        "    df_clean[i] = df_clean[i].str.replace(r'[^\\w\\s]',' ')\n",
        "    df_clean[i] = df_clean[i].str.replace(r'\\n', ' ')\n",
        "    df_clean[i] = df_clean[i].str.replace(rf'\\b{stopwords_pattern}\\b','')\n",
        "    df_clean[i] = df_clean[i].apply(lemmatize)"
      ],
      "execution_count": 0,
      "outputs": []
    },
    {
      "cell_type": "code",
      "metadata": {
        "id": "KOTvYWfmRTLV",
        "colab_type": "code",
        "outputId": "03094e2e-8c75-45d4-e254-d9be8d4bc884",
        "colab": {
          "base_uri": "https://localhost:8080/",
          "height": 374
        }
      },
      "source": [
        "df_clean.head()"
      ],
      "execution_count": 0,
      "outputs": [
        {
          "output_type": "execute_result",
          "data": {
            "text/html": [
              "<div>\n",
              "<style scoped>\n",
              "    .dataframe tbody tr th:only-of-type {\n",
              "        vertical-align: middle;\n",
              "    }\n",
              "\n",
              "    .dataframe tbody tr th {\n",
              "        vertical-align: top;\n",
              "    }\n",
              "\n",
              "    .dataframe thead th {\n",
              "        text-align: right;\n",
              "    }\n",
              "</style>\n",
              "<table border=\"1\" class=\"dataframe\">\n",
              "  <thead>\n",
              "    <tr style=\"text-align: right;\">\n",
              "      <th></th>\n",
              "      <th>index</th>\n",
              "      <th>product_id</th>\n",
              "      <th>brand</th>\n",
              "      <th>mpn</th>\n",
              "      <th>product_full_name</th>\n",
              "      <th>description</th>\n",
              "      <th>brand_category</th>\n",
              "      <th>brand_canonical_url</th>\n",
              "      <th>details</th>\n",
              "      <th>labels</th>\n",
              "      <th>attribute_name</th>\n",
              "      <th>attribute_value</th>\n",
              "      <th>style</th>\n",
              "      <th>occasion</th>\n",
              "      <th>category</th>\n",
              "      <th>fit</th>\n",
              "    </tr>\n",
              "  </thead>\n",
              "  <tbody>\n",
              "    <tr>\n",
              "      <th>0</th>\n",
              "      <td>0</td>\n",
              "      <td>01e5zxp5h0btezt9qd2hrzj47a</td>\n",
              "      <td>a.l.c.</td>\n",
              "      <td>5529544</td>\n",
              "      <td>lennox high waist cotton linen pant</td>\n",
              "      <td>high rise bottom tailored cool italian cotton ...</td>\n",
              "      <td>unknown</td>\n",
              "      <td>https://shop.nordstrom.com/s/a-l-c-lennox-high...</td>\n",
              "      <td>true size high rise inseam leg opening rise ri...</td>\n",
              "      <td>[]</td>\n",
              "      <td>style</td>\n",
              "      <td>modern</td>\n",
              "      <td>modern</td>\n",
              "      <td></td>\n",
              "      <td></td>\n",
              "      <td></td>\n",
              "    </tr>\n",
              "    <tr>\n",
              "      <th>1</th>\n",
              "      <td>1</td>\n",
              "      <td>01e5zxp5h0btezt9qd2hrzj47a</td>\n",
              "      <td>a.l.c.</td>\n",
              "      <td>5529544</td>\n",
              "      <td>lennox high waist cotton linen pant</td>\n",
              "      <td>high rise bottom tailored cool italian cotton ...</td>\n",
              "      <td>unknown</td>\n",
              "      <td>https://shop.nordstrom.com/s/a-l-c-lennox-high...</td>\n",
              "      <td>true size high rise inseam leg opening rise ri...</td>\n",
              "      <td>[]</td>\n",
              "      <td>style</td>\n",
              "      <td>businesscasual</td>\n",
              "      <td>businesscasual</td>\n",
              "      <td></td>\n",
              "      <td></td>\n",
              "      <td></td>\n",
              "    </tr>\n",
              "    <tr>\n",
              "      <th>2</th>\n",
              "      <td>2</td>\n",
              "      <td>01e5zxp5h0btezt9qd2hrzj47a</td>\n",
              "      <td>a.l.c.</td>\n",
              "      <td>5529544</td>\n",
              "      <td>lennox high waist cotton linen pant</td>\n",
              "      <td>high rise bottom tailored cool italian cotton ...</td>\n",
              "      <td>unknown</td>\n",
              "      <td>https://shop.nordstrom.com/s/a-l-c-lennox-high...</td>\n",
              "      <td>true size high rise inseam leg opening rise ri...</td>\n",
              "      <td>[]</td>\n",
              "      <td>style</td>\n",
              "      <td>classic</td>\n",
              "      <td>classic</td>\n",
              "      <td></td>\n",
              "      <td></td>\n",
              "      <td></td>\n",
              "    </tr>\n",
              "    <tr>\n",
              "      <th>3</th>\n",
              "      <td>3</td>\n",
              "      <td>01e5zxp5h0btezt9qd2hrzj47a</td>\n",
              "      <td>a.l.c.</td>\n",
              "      <td>5529544</td>\n",
              "      <td>lennox high waist cotton linen pant</td>\n",
              "      <td>high rise bottom tailored cool italian cotton ...</td>\n",
              "      <td>unknown</td>\n",
              "      <td>https://shop.nordstrom.com/s/a-l-c-lennox-high...</td>\n",
              "      <td>true size high rise inseam leg opening rise ri...</td>\n",
              "      <td>[]</td>\n",
              "      <td>occasion</td>\n",
              "      <td>work</td>\n",
              "      <td></td>\n",
              "      <td>work</td>\n",
              "      <td></td>\n",
              "      <td></td>\n",
              "    </tr>\n",
              "    <tr>\n",
              "      <th>4</th>\n",
              "      <td>4</td>\n",
              "      <td>01e5zxp5h0btezt9qd2hrzj47a</td>\n",
              "      <td>a.l.c.</td>\n",
              "      <td>5529544</td>\n",
              "      <td>lennox high waist cotton linen pant</td>\n",
              "      <td>high rise bottom tailored cool italian cotton ...</td>\n",
              "      <td>unknown</td>\n",
              "      <td>https://shop.nordstrom.com/s/a-l-c-lennox-high...</td>\n",
              "      <td>true size high rise inseam leg opening rise ri...</td>\n",
              "      <td>[]</td>\n",
              "      <td>category</td>\n",
              "      <td>bottom</td>\n",
              "      <td></td>\n",
              "      <td></td>\n",
              "      <td>bottom</td>\n",
              "      <td></td>\n",
              "    </tr>\n",
              "  </tbody>\n",
              "</table>\n",
              "</div>"
            ],
            "text/plain": [
              "   index                  product_id   brand  ... occasion category fit\n",
              "0      0  01e5zxp5h0btezt9qd2hrzj47a  a.l.c.  ...                      \n",
              "1      1  01e5zxp5h0btezt9qd2hrzj47a  a.l.c.  ...                      \n",
              "2      2  01e5zxp5h0btezt9qd2hrzj47a  a.l.c.  ...                      \n",
              "3      3  01e5zxp5h0btezt9qd2hrzj47a  a.l.c.  ...     work             \n",
              "4      4  01e5zxp5h0btezt9qd2hrzj47a  a.l.c.  ...            bottom    \n",
              "\n",
              "[5 rows x 16 columns]"
            ]
          },
          "metadata": {
            "tags": []
          },
          "execution_count": 16
        }
      ]
    },
    {
      "cell_type": "code",
      "metadata": {
        "id": "3h-HgrflRTLZ",
        "colab_type": "code",
        "colab": {}
      },
      "source": [
        "df_clean.to_csv('/content/drive/My Drive/NLP/df_clean.csv')"
      ],
      "execution_count": 0,
      "outputs": []
    },
    {
      "cell_type": "code",
      "metadata": {
        "id": "TnNtPqX6RTLe",
        "colab_type": "code",
        "outputId": "0aa73379-30a0-44c1-aa43-4bf8ac2dc063",
        "colab": {
          "base_uri": "https://localhost:8080/",
          "height": 68
        }
      },
      "source": [
        "end = pd.datetime.now()\n",
        "print(end-start)"
      ],
      "execution_count": 0,
      "outputs": [
        {
          "output_type": "stream",
          "text": [
            "0:00:38.742760\n"
          ],
          "name": "stdout"
        },
        {
          "output_type": "stream",
          "text": [
            "/usr/local/lib/python3.6/dist-packages/ipykernel_launcher.py:1: FutureWarning: The pandas.datetime class is deprecated and will be removed from pandas in a future version. Import from datetime instead.\n",
            "  \"\"\"Entry point for launching an IPython kernel.\n"
          ],
          "name": "stderr"
        }
      ]
    },
    {
      "cell_type": "code",
      "metadata": {
        "id": "bXPPW-0HXb8I",
        "colab_type": "code",
        "colab": {}
      },
      "source": [
        ""
      ],
      "execution_count": 0,
      "outputs": []
    }
  ]
}