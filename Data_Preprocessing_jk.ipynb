{
 "cells": [
  {
   "cell_type": "code",
   "execution_count": 1,
   "metadata": {
    "scrolled": true
   },
   "outputs": [],
   "source": [
    "import pandas as pd\n",
    "import numpy as np\n",
    "from gensim.parsing.preprocessing import STOPWORDS\n",
    "from nltk.corpus import stopwords\n",
    "import nltk\n",
    "import re"
   ]
  },
  {
   "cell_type": "code",
   "execution_count": 2,
   "metadata": {},
   "outputs": [],
   "source": [
    "start = pd.datetime.now()"
   ]
  },
  {
   "cell_type": "markdown",
   "metadata": {},
   "source": [
    "## Data Cleaning"
   ]
  },
  {
   "cell_type": "code",
   "execution_count": 3,
   "metadata": {},
   "outputs": [
    {
     "data": {
      "text/plain": [
       "(48072, 9)"
      ]
     },
     "execution_count": 3,
     "metadata": {},
     "output_type": "execute_result"
    }
   ],
   "source": [
    "df_SQL = pd.read_csv('full_data.csv')\n",
    "df_SQL.drop(columns=['created_at', 'updated_at', 'deleted_at', 'bc_product_id'], inplace=True)\n",
    "for columns in df_SQL.columns:\n",
    "    df_SQL[columns] = df_SQL[columns].str.lower() \n",
    "df_SQL.drop_duplicates(subset= ['product_id'], keep = 'first', inplace=True)\n",
    "df_SQL.shape"
   ]
  },
  {
   "cell_type": "code",
   "execution_count": 4,
   "metadata": {},
   "outputs": [
    {
     "data": {
      "text/plain": [
       "(97950, 4)"
      ]
     },
     "execution_count": 4,
     "metadata": {},
     "output_type": "execute_result"
    }
   ],
   "source": [
    "tag_SQL = pd.read_csv('tagged_product_attributes.csv')\n",
    "\n",
    "for columns in tag_SQL.columns:\n",
    "    tag_SQL[columns] = tag_SQL[columns].str.lower() \n",
    "    \n",
    "remove = [' ', '_', '(', ')', '-', ',', '&', '\"', '\"', '/']\n",
    "for i in remove:\n",
    "    tag_SQL['attribute_name'] = tag_SQL['attribute_name'].str.replace(i, '')\n",
    "    tag_SQL['attribute_value'] = tag_SQL['attribute_value'].str.replace(i, '')\n",
    "\n",
    "tag_SQL.drop(columns='file', inplace=True)\n",
    "tag_SQL.drop_duplicates(keep='first', inplace=True) #only removed duplicates that have same data in all of the columns\n",
    "tag_SQL.shape"
   ]
  },
  {
   "cell_type": "code",
   "execution_count": 5,
   "metadata": {},
   "outputs": [
    {
     "data": {
      "text/plain": [
       "(26584, 16)"
      ]
     },
     "execution_count": 5,
     "metadata": {},
     "output_type": "execute_result"
    }
   ],
   "source": [
    "df_join = pd.merge(df_SQL, tag_SQL.drop(columns='product_color_id'), how='inner', on='product_id')\n",
    "focus_attribute = ['style', 'occasion', 'category', 'fit']\n",
    "df_clean = df_join[df_join.attribute_name.isin(focus_attribute)].reset_index(drop=True)\n",
    "\n",
    "for att in focus_attribute:\n",
    "    df_clean[att] = np.where(df_clean.attribute_name==att, df_clean.attribute_value, None)\n",
    "df_clean.replace(np.nan, '', regex=True, inplace=True)\n",
    "df_clean.drop_duplicates(inplace=True)\n",
    "df_clean.reset_index(inplace=True)\n",
    "df_clean.shape"
   ]
  },
  {
   "cell_type": "markdown",
   "metadata": {},
   "source": [
    "## Preprocessing with regex"
   ]
  },
  {
   "cell_type": "code",
   "execution_count": 6,
   "metadata": {},
   "outputs": [],
   "source": [
    "from sklearn.feature_extraction.text import CountVectorizer\n",
    "vectorizer = CountVectorizer()\n",
    "X = vectorizer.fit_transform(df_clean.description)\n",
    "temp = pd.DataFrame(X.toarray(), columns=vectorizer.get_feature_names()).sum(axis=0)"
   ]
  },
  {
   "cell_type": "code",
   "execution_count": 7,
   "metadata": {
    "scrolled": true
   },
   "outputs": [
    {
     "data": {
      "text/plain": [
       "and           21434\n",
       "the           20116\n",
       "with          16651\n",
       "in            10961\n",
       "this          10331\n",
       "to             9654\n",
       "of             8717\n",
       "for            8451\n",
       "is             7910\n",
       "from           6269\n",
       "that           4958\n",
       "on             4743\n",
       "an             4351\n",
       "fit            4303\n",
       "leather        4066\n",
       "cotton         4038\n",
       "style          3808\n",
       "made           3555\n",
       "your           3521\n",
       "it             3233\n",
       "designed       2958\n",
       "cut            2946\n",
       "100            2824\n",
       "waist          2804\n",
       "at             2795\n",
       "high           2675\n",
       "silhouette     2635\n",
       "you            2540\n",
       "silk           2509\n",
       "look           2489\n",
       "size           2456\n",
       "front          2407\n",
       "classic        2381\n",
       "denim          2295\n",
       "these          2273\n",
       "length         2189\n",
       "sleeves        2142\n",
       "polyester      2129\n",
       "top            2097\n",
       "soft           2084\n",
       "stretch        2041\n",
       "back           2008\n",
       "jeans          1971\n",
       "dress          1924\n",
       "are            1914\n",
       "button         1900\n",
       "features       1870\n",
       "black          1860\n",
       "body           1831\n",
       "heel           1822\n",
       "dtype: int64"
      ]
     },
     "execution_count": 7,
     "metadata": {},
     "output_type": "execute_result"
    }
   ],
   "source": [
    "temp.sort_values(ascending=False).head(50)"
   ]
  },
  {
   "cell_type": "code",
   "execution_count": 8,
   "metadata": {
    "scrolled": true
   },
   "outputs": [
    {
     "data": {
      "text/plain": [
       "up            1749\n",
       "or            1742\n",
       "wool          1710\n",
       "inspired      1676\n",
       "model         1664\n",
       "pants         1635\n",
       "perfect       1560\n",
       "sweater       1546\n",
       "cropped       1545\n",
       "by            1544\n",
       "wash          1530\n",
       "relaxed       1492\n",
       "blend         1462\n",
       "shirt         1438\n",
       "clean         1431\n",
       "crafted       1430\n",
       "leg           1388\n",
       "knit          1372\n",
       "tall          1365\n",
       "skirt         1352\n",
       "wears         1351\n",
       "cm            1337\n",
       "toe           1335\n",
       "pair          1312\n",
       "slim          1265\n",
       "hem           1253\n",
       "cashmere      1230\n",
       "print         1229\n",
       "neck          1225\n",
       "wide          1219\n",
       "pockets       1201\n",
       "easy          1184\n",
       "wear          1181\n",
       "belt          1177\n",
       "white         1166\n",
       "ankle         1142\n",
       "jacket        1139\n",
       "rise          1123\n",
       "lining        1120\n",
       "our           1118\n",
       "has           1108\n",
       "flattering    1104\n",
       "tee           1090\n",
       "imported      1086\n",
       "its           1074\n",
       "as            1068\n",
       "bag           1067\n",
       "dry           1056\n",
       "oversized     1029\n",
       "into          1022\n",
       "chic          1010\n",
       "dtype: int64"
      ]
     },
     "execution_count": 8,
     "metadata": {},
     "output_type": "execute_result"
    }
   ],
   "source": [
    "temp.sort_values(ascending=False).iloc[50:101]"
   ]
  },
  {
   "cell_type": "code",
   "execution_count": 9,
   "metadata": {},
   "outputs": [],
   "source": [
    "df_clean['description'] = df_clean['description'].str.replace(r'([0-9]+)', '')\n",
    "df_clean['description'] = df_clean['description'].str.replace(r'\\b(jeans|pants|skirt)\\b', 'bottom')\n",
    "df_clean['description'] = df_clean['description'].str.replace(r'\\b(sweater|shirt|jacket)\\b', 'top')\n",
    "df_clean['description'] = df_clean['description'].str.replace(r'\\b(heel|sandal)\\b', 'shoe')\n",
    "df_clean['description'] = df_clean['description'].str.replace(r'\\b(dress)\\b', 'onepiece')"
   ]
  },
  {
   "cell_type": "code",
   "execution_count": 10,
   "metadata": {},
   "outputs": [],
   "source": [
    "# regex to remove numbers in details\n",
    "df_clean['product_full_name'] = df_clean['product_full_name'].str.replace(r'([0-9]+)','')\n",
    "df_clean['details'] = df_clean['details'].str.replace(r'([0-9]+)','')\n",
    "df_clean['brand_category'] = df_clean['brand_category'].str.replace(r'([0-9]+)','')"
   ]
  },
  {
   "cell_type": "markdown",
   "metadata": {},
   "source": [
    "## Removing stopwords, lemmatization"
   ]
  },
  {
   "cell_type": "code",
   "execution_count": 11,
   "metadata": {},
   "outputs": [],
   "source": [
    "from nltk.stem import WordNetLemmatizer"
   ]
  },
  {
   "cell_type": "code",
   "execution_count": 12,
   "metadata": {},
   "outputs": [],
   "source": [
    "stopwords_gensim = list(STOPWORDS)\n",
    "stopwords_NLTK = list(stopwords.words(\"english\"))\n",
    "stopwords_combined = list(set(stopwords_gensim+stopwords_NLTK)) #to remove duplicates\n",
    "negatives = ['not','nor','no','neither', 'never'] #took out the negative words for a more accurate analysis\n",
    "stopwords_combined = list(filter(lambda x: x not in negatives, stopwords_combined))\n",
    "stopwords_combined.sort()\n",
    "stopwords_expression = '|'.join(stopwords_combined)\n",
    "stopwords_pattern = f'({stopwords_expression})'"
   ]
  },
  {
   "cell_type": "code",
   "execution_count": 13,
   "metadata": {},
   "outputs": [],
   "source": [
    "def lemmatize(text):\n",
    "    lemmatizer = WordNetLemmatizer()\n",
    "    tokens = text.split()\n",
    "    stemmed_tokens = [lemmatizer.lemmatize(token) for token in tokens]\n",
    "    return ' '.join(stemmed_tokens)\n",
    "\n",
    "def stem_text(text):\n",
    "    porter=PorterStemmer()\n",
    "    tokens = text.split()\n",
    "    stemmed_tokens = [porter.stem(token) for token in tokens]\n",
    "    return ' '.join(stemmed_tokens)"
   ]
  },
  {
   "cell_type": "code",
   "execution_count": 14,
   "metadata": {},
   "outputs": [],
   "source": [
    "col = ['product_full_name','description','brand_category','details']\n",
    "for i in col:\n",
    "    df_clean[i] = df_clean[i].astype(str)\n",
    "    df_clean[i] = df_clean[i].str.replace(r'[^\\w\\s]',' ')\n",
    "    df_clean[i] = df_clean[i].str.replace(r'\\n', ' ')\n",
    "    df_clean[i] = df_clean[i].str.replace(rf'\\b{stopwords_pattern}\\b','')\n",
    "    df_clean[i] = df_clean[i].apply(lemmatize)"
   ]
  },
  {
   "cell_type": "code",
   "execution_count": 15,
   "metadata": {},
   "outputs": [
    {
     "data": {
      "text/html": [
       "<div>\n",
       "<style scoped>\n",
       "    .dataframe tbody tr th:only-of-type {\n",
       "        vertical-align: middle;\n",
       "    }\n",
       "\n",
       "    .dataframe tbody tr th {\n",
       "        vertical-align: top;\n",
       "    }\n",
       "\n",
       "    .dataframe thead th {\n",
       "        text-align: right;\n",
       "    }\n",
       "</style>\n",
       "<table border=\"1\" class=\"dataframe\">\n",
       "  <thead>\n",
       "    <tr style=\"text-align: right;\">\n",
       "      <th></th>\n",
       "      <th>index</th>\n",
       "      <th>product_id</th>\n",
       "      <th>brand</th>\n",
       "      <th>mpn</th>\n",
       "      <th>product_full_name</th>\n",
       "      <th>description</th>\n",
       "      <th>brand_category</th>\n",
       "      <th>brand_canonical_url</th>\n",
       "      <th>details</th>\n",
       "      <th>labels</th>\n",
       "      <th>attribute_name</th>\n",
       "      <th>attribute_value</th>\n",
       "      <th>style</th>\n",
       "      <th>occasion</th>\n",
       "      <th>category</th>\n",
       "      <th>fit</th>\n",
       "    </tr>\n",
       "  </thead>\n",
       "  <tbody>\n",
       "    <tr>\n",
       "      <th>0</th>\n",
       "      <td>0</td>\n",
       "      <td>01e5zxp5h0btezt9qd2hrzj47a</td>\n",
       "      <td>a.l.c.</td>\n",
       "      <td>5529544</td>\n",
       "      <td>lennox high waist cotton linen pant</td>\n",
       "      <td>high rise trouser tailored cool italian cotton...</td>\n",
       "      <td>unknown</td>\n",
       "      <td>https://shop.nordstrom.com/s/a-l-c-lennox-high...</td>\n",
       "      <td>true size high rise inseam leg opening rise ri...</td>\n",
       "      <td>[]</td>\n",
       "      <td>style</td>\n",
       "      <td>modern</td>\n",
       "      <td>modern</td>\n",
       "      <td></td>\n",
       "      <td></td>\n",
       "      <td></td>\n",
       "    </tr>\n",
       "    <tr>\n",
       "      <th>1</th>\n",
       "      <td>1</td>\n",
       "      <td>01e5zxp5h0btezt9qd2hrzj47a</td>\n",
       "      <td>a.l.c.</td>\n",
       "      <td>5529544</td>\n",
       "      <td>lennox high waist cotton linen pant</td>\n",
       "      <td>high rise trouser tailored cool italian cotton...</td>\n",
       "      <td>unknown</td>\n",
       "      <td>https://shop.nordstrom.com/s/a-l-c-lennox-high...</td>\n",
       "      <td>true size high rise inseam leg opening rise ri...</td>\n",
       "      <td>[]</td>\n",
       "      <td>style</td>\n",
       "      <td>businesscasual</td>\n",
       "      <td>businesscasual</td>\n",
       "      <td></td>\n",
       "      <td></td>\n",
       "      <td></td>\n",
       "    </tr>\n",
       "    <tr>\n",
       "      <th>2</th>\n",
       "      <td>2</td>\n",
       "      <td>01e5zxp5h0btezt9qd2hrzj47a</td>\n",
       "      <td>a.l.c.</td>\n",
       "      <td>5529544</td>\n",
       "      <td>lennox high waist cotton linen pant</td>\n",
       "      <td>high rise trouser tailored cool italian cotton...</td>\n",
       "      <td>unknown</td>\n",
       "      <td>https://shop.nordstrom.com/s/a-l-c-lennox-high...</td>\n",
       "      <td>true size high rise inseam leg opening rise ri...</td>\n",
       "      <td>[]</td>\n",
       "      <td>style</td>\n",
       "      <td>classic</td>\n",
       "      <td>classic</td>\n",
       "      <td></td>\n",
       "      <td></td>\n",
       "      <td></td>\n",
       "    </tr>\n",
       "    <tr>\n",
       "      <th>3</th>\n",
       "      <td>3</td>\n",
       "      <td>01e5zxp5h0btezt9qd2hrzj47a</td>\n",
       "      <td>a.l.c.</td>\n",
       "      <td>5529544</td>\n",
       "      <td>lennox high waist cotton linen pant</td>\n",
       "      <td>high rise trouser tailored cool italian cotton...</td>\n",
       "      <td>unknown</td>\n",
       "      <td>https://shop.nordstrom.com/s/a-l-c-lennox-high...</td>\n",
       "      <td>true size high rise inseam leg opening rise ri...</td>\n",
       "      <td>[]</td>\n",
       "      <td>occasion</td>\n",
       "      <td>work</td>\n",
       "      <td></td>\n",
       "      <td>work</td>\n",
       "      <td></td>\n",
       "      <td></td>\n",
       "    </tr>\n",
       "    <tr>\n",
       "      <th>4</th>\n",
       "      <td>4</td>\n",
       "      <td>01e5zxp5h0btezt9qd2hrzj47a</td>\n",
       "      <td>a.l.c.</td>\n",
       "      <td>5529544</td>\n",
       "      <td>lennox high waist cotton linen pant</td>\n",
       "      <td>high rise trouser tailored cool italian cotton...</td>\n",
       "      <td>unknown</td>\n",
       "      <td>https://shop.nordstrom.com/s/a-l-c-lennox-high...</td>\n",
       "      <td>true size high rise inseam leg opening rise ri...</td>\n",
       "      <td>[]</td>\n",
       "      <td>category</td>\n",
       "      <td>bottom</td>\n",
       "      <td></td>\n",
       "      <td></td>\n",
       "      <td>bottom</td>\n",
       "      <td></td>\n",
       "    </tr>\n",
       "  </tbody>\n",
       "</table>\n",
       "</div>"
      ],
      "text/plain": [
       "   index                  product_id   brand      mpn  \\\n",
       "0      0  01e5zxp5h0btezt9qd2hrzj47a  a.l.c.  5529544   \n",
       "1      1  01e5zxp5h0btezt9qd2hrzj47a  a.l.c.  5529544   \n",
       "2      2  01e5zxp5h0btezt9qd2hrzj47a  a.l.c.  5529544   \n",
       "3      3  01e5zxp5h0btezt9qd2hrzj47a  a.l.c.  5529544   \n",
       "4      4  01e5zxp5h0btezt9qd2hrzj47a  a.l.c.  5529544   \n",
       "\n",
       "                     product_full_name  \\\n",
       "0  lennox high waist cotton linen pant   \n",
       "1  lennox high waist cotton linen pant   \n",
       "2  lennox high waist cotton linen pant   \n",
       "3  lennox high waist cotton linen pant   \n",
       "4  lennox high waist cotton linen pant   \n",
       "\n",
       "                                         description brand_category  \\\n",
       "0  high rise trouser tailored cool italian cotton...        unknown   \n",
       "1  high rise trouser tailored cool italian cotton...        unknown   \n",
       "2  high rise trouser tailored cool italian cotton...        unknown   \n",
       "3  high rise trouser tailored cool italian cotton...        unknown   \n",
       "4  high rise trouser tailored cool italian cotton...        unknown   \n",
       "\n",
       "                                 brand_canonical_url  \\\n",
       "0  https://shop.nordstrom.com/s/a-l-c-lennox-high...   \n",
       "1  https://shop.nordstrom.com/s/a-l-c-lennox-high...   \n",
       "2  https://shop.nordstrom.com/s/a-l-c-lennox-high...   \n",
       "3  https://shop.nordstrom.com/s/a-l-c-lennox-high...   \n",
       "4  https://shop.nordstrom.com/s/a-l-c-lennox-high...   \n",
       "\n",
       "                                             details labels attribute_name  \\\n",
       "0  true size high rise inseam leg opening rise ri...     []          style   \n",
       "1  true size high rise inseam leg opening rise ri...     []          style   \n",
       "2  true size high rise inseam leg opening rise ri...     []          style   \n",
       "3  true size high rise inseam leg opening rise ri...     []       occasion   \n",
       "4  true size high rise inseam leg opening rise ri...     []       category   \n",
       "\n",
       "  attribute_value           style occasion category fit  \n",
       "0          modern          modern                        \n",
       "1  businesscasual  businesscasual                        \n",
       "2         classic         classic                        \n",
       "3            work                     work               \n",
       "4          bottom                            bottom      "
      ]
     },
     "execution_count": 15,
     "metadata": {},
     "output_type": "execute_result"
    }
   ],
   "source": [
    "df_clean.head()"
   ]
  },
  {
   "cell_type": "code",
   "execution_count": 16,
   "metadata": {},
   "outputs": [],
   "source": [
    "df_clean.to_csv('df_clean.csv')"
   ]
  },
  {
   "cell_type": "code",
   "execution_count": 17,
   "metadata": {},
   "outputs": [
    {
     "name": "stdout",
     "output_type": "stream",
     "text": [
      "0:00:27.738142\n"
     ]
    }
   ],
   "source": [
    "end = pd.datetime.now()\n",
    "print(end-start)"
   ]
  },
  {
   "cell_type": "code",
   "execution_count": null,
   "metadata": {},
   "outputs": [],
   "source": []
  }
 ],
 "metadata": {
  "kernelspec": {
   "display_name": "Python 3",
   "language": "python",
   "name": "python3"
  },
  "language_info": {
   "codemirror_mode": {
    "name": "ipython",
    "version": 3
   },
   "file_extension": ".py",
   "mimetype": "text/x-python",
   "name": "python",
   "nbconvert_exporter": "python",
   "pygments_lexer": "ipython3",
   "version": "3.7.3"
  }
 },
 "nbformat": 4,
 "nbformat_minor": 2
}
